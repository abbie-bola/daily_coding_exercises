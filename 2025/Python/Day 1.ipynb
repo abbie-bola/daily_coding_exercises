{
 "cells": [
  {
   "cell_type": "code",
   "execution_count": 1,
   "id": "8bb35697-1bc8-443f-86b1-e6f5b0413fe7",
   "metadata": {},
   "outputs": [
    {
     "name": "stdout",
     "output_type": "stream",
     "text": [
      "The Zen of Python, by Tim Peters\n",
      "\n",
      "Beautiful is better than ugly.\n",
      "Explicit is better than implicit.\n",
      "Simple is better than complex.\n",
      "Complex is better than complicated.\n",
      "Flat is better than nested.\n",
      "Sparse is better than dense.\n",
      "Readability counts.\n",
      "Special cases aren't special enough to break the rules.\n",
      "Although practicality beats purity.\n",
      "Errors should never pass silently.\n",
      "Unless explicitly silenced.\n",
      "In the face of ambiguity, refuse the temptation to guess.\n",
      "There should be one-- and preferably only one --obvious way to do it.\n",
      "Although that way may not be obvious at first unless you're Dutch.\n",
      "Now is better than never.\n",
      "Although never is often better than *right* now.\n",
      "If the implementation is hard to explain, it's a bad idea.\n",
      "If the implementation is easy to explain, it may be a good idea.\n",
      "Namespaces are one honking great idea -- let's do more of those!\n"
     ]
    }
   ],
   "source": [
    ">>> import this"
   ]
  },
  {
   "cell_type": "markdown",
   "id": "783f4eab-2d07-482a-9052-e4a1f7f43b52",
   "metadata": {},
   "source": [
    "### Exercise 1\n",
    "Given two integer numbers, write a Python code to return their product only if the product is equal to or lower than 1000. Otherwise, return their sum."
   ]
  },
  {
   "cell_type": "code",
   "execution_count": 6,
   "id": "ecd78e8a-2c20-4889-b0d7-c9e56c2ec82e",
   "metadata": {},
   "outputs": [
    {
     "name": "stdout",
     "output_type": "stream",
     "text": [
      "The result is 70\n"
     ]
    }
   ],
   "source": [
    "number1 = 40\n",
    "number2 = 30\n",
    "product = number1 * number2\n",
    "total_sum = number1 + number2\n",
    "\n",
    "if product <= 1000:\n",
    "    print (\"The result is {}\".format(product))\n",
    "else:\n",
    "    print (\"The result is {}\".format(total_sum))\n",
    "\n",
    "# code executed correctly\n",
    "# I was going to create a function, but decided against it in this solution, because I remembered the Zen of Python. I am also practicing writing code that d that runs on minimum compute.\n",
    "# In this case, the fewer lines, the better. \n",
    "# #3: Simple is better than complex."
   ]
  },
  {
   "cell_type": "markdown",
   "id": "c579c6b4-8b68-4760-b2f0-aa785bc3966e",
   "metadata": {},
   "source": [
    "### Exercise 2 \n",
    "Write a Python code to iterate the first 10 numbers, and in each iteration, print the sum of the current and previous number."
   ]
  },
  {
   "cell_type": "code",
   "execution_count": 8,
   "id": "1936394d-8f76-4326-b574-c922f7ba6201",
   "metadata": {},
   "outputs": [
    {
     "name": "stdout",
     "output_type": "stream",
     "text": [
      "Printing current and previous number sum in a range(10)\n",
      "Current Number 0 Previous Number 0 Sum: 0\n",
      "Current Number 1 Previous Number 0 Sum: 1\n",
      "Current Number 2 Previous Number 1 Sum: 3\n",
      "Current Number 3 Previous Number 2 Sum: 5\n",
      "Current Number 4 Previous Number 3 Sum: 7\n",
      "Current Number 5 Previous Number 4 Sum: 9\n",
      "Current Number 6 Previous Number 5 Sum: 11\n",
      "Current Number 7 Previous Number 6 Sum: 13\n",
      "Current Number 8 Previous Number 7 Sum: 15\n",
      "Current Number 9 Previous Number 8 Sum: 17\n"
     ]
    }
   ],
   "source": [
    "prev = 0\n",
    "i = 0\n",
    "print (\"Printing current and previous number sum in a range(10)\")\n",
    "\n",
    "for i in range(10):\n",
    "    total = prev + i\n",
    "    print (\"Current Number {} Previous Number {} Sum: {}\".format(i, prev, total))\n",
    "    prev = i"
   ]
  },
  {
   "cell_type": "code",
   "execution_count": null,
   "id": "3063946a-d026-444c-b1d4-d3e5b6147211",
   "metadata": {},
   "outputs": [],
   "source": []
  },
  {
   "cell_type": "code",
   "execution_count": null,
   "id": "0e5b967d-4030-422c-a0c3-7659e303272e",
   "metadata": {},
   "outputs": [],
   "source": []
  },
  {
   "cell_type": "code",
   "execution_count": null,
   "id": "a0956336-a866-450c-95e5-229315d49140",
   "metadata": {},
   "outputs": [],
   "source": []
  },
  {
   "cell_type": "code",
   "execution_count": null,
   "id": "94b6e360-a50d-471e-b19c-c3f453036c80",
   "metadata": {},
   "outputs": [],
   "source": []
  },
  {
   "cell_type": "code",
   "execution_count": null,
   "id": "f00b3e58-2317-44de-88f5-63c365bcd3a1",
   "metadata": {},
   "outputs": [],
   "source": []
  },
  {
   "cell_type": "code",
   "execution_count": null,
   "id": "3861f52c-aa67-4d0a-ad9f-2a991e3c486e",
   "metadata": {},
   "outputs": [],
   "source": []
  },
  {
   "cell_type": "code",
   "execution_count": null,
   "id": "00871168-8518-4bd0-826b-5c55f8b1184f",
   "metadata": {},
   "outputs": [],
   "source": []
  }
 ],
 "metadata": {
  "kernelspec": {
   "display_name": "Python 3 (ipykernel)",
   "language": "python",
   "name": "python3"
  },
  "language_info": {
   "codemirror_mode": {
    "name": "ipython",
    "version": 3
   },
   "file_extension": ".py",
   "mimetype": "text/x-python",
   "name": "python",
   "nbconvert_exporter": "python",
   "pygments_lexer": "ipython3",
   "version": "3.12.7"
  }
 },
 "nbformat": 4,
 "nbformat_minor": 5
}
