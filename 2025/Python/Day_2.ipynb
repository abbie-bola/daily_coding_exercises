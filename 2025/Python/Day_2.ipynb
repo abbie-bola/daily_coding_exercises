{
 "cells": [
  {
   "cell_type": "markdown",
   "id": "bc30dd7d-460d-4ffd-92b6-e43d89c67d02",
   "metadata": {},
   "source": [
    "### Exercise 3\n",
    "Write a Python code to accept a string from the user and display characters present at an even index number.\n",
    "\n",
    "For example, `str = \"PYnative` so your code should display `‘P’`, `‘n’`, `‘t’`, `‘v’`."
   ]
  },
  {
   "cell_type": "code",
   "execution_count": 31,
   "id": "adf48d9e-3ced-4e4d-b4ce-b7de0a22a159",
   "metadata": {},
   "outputs": [
    {
     "name": "stdin",
     "output_type": "stream",
     "text": [
      "Enter a word: battery\n"
     ]
    },
    {
     "name": "stdout",
     "output_type": "stream",
     "text": [
      "b\n",
      "t\n",
      "e\n"
     ]
    }
   ],
   "source": [
    "my_string = input(\"Enter a word:\")\n",
    "# my_list = []\n",
    "# split_string = str.split(my_string)\n",
    "# my_list.append(split_string)\n",
    "\n",
    "for i in range(0, len(my_string)-1, 2):\n",
    "    print (my_string[i])\n",
    "    \n",
    "# code executed correctly\n",
    "# learned: `str.split()` isn't needed for iterating over strings. strings are iterables. \n",
    "# Commented-out lines also not needed"
   ]
  },
  {
   "cell_type": "markdown",
   "id": "0a6534e9-e21b-4f00-b41c-a1cddf2d29be",
   "metadata": {},
   "source": [
    "### Exercise 4\n",
    "Write a Python code to remove characters from a string from 0 to n and return a new string.\n",
    "\n",
    "For Example:\n",
    "\n",
    "`remove_chars(\"PYnative\", 4)` so output must be `tive`. Here, you need to remove the first four characters from a string.\n",
    "`remove_chars(\"PYnative\", 2)` so output must be `native`. Here, you need to remove the first two characters from a string."
   ]
  },
  {
   "cell_type": "code",
   "execution_count": 46,
   "id": "5c47290b-3b20-49f1-86ca-e208f5dac37f",
   "metadata": {},
   "outputs": [
    {
     "name": "stdin",
     "output_type": "stream",
     "text": [
      "Type in a word: babble\n",
      "Type in an integer: 3\n"
     ]
    },
    {
     "name": "stdout",
     "output_type": "stream",
     "text": [
      "ble\n"
     ]
    }
   ],
   "source": [
    "word = input(\"Type in a word:\")\n",
    "num = input(\"Type in an integer:\")\n",
    "\n",
    "def remove_chars(word, num):\n",
    "    x = list(word)\n",
    "    y = int(num)\n",
    "    del x[0:y]\n",
    "    print (\"\".join(x))\n",
    "\n",
    "remove_chars(word, num)\n",
    "\n",
    "# code executed correctly\n",
    "# Learned: how to convert a list into a string, using .join(), slice() isn't iterable, I did not need an iteration for this"
   ]
  },
  {
   "cell_type": "code",
   "execution_count": null,
   "id": "5233480f-4bb1-4aa1-b3db-9cb75b06820d",
   "metadata": {},
   "outputs": [],
   "source": []
  },
  {
   "cell_type": "code",
   "execution_count": null,
   "id": "ca3d0eb2-6287-4100-9d6d-45f2a476f7cc",
   "metadata": {},
   "outputs": [],
   "source": []
  }
 ],
 "metadata": {
  "kernelspec": {
   "display_name": "Python 3 (ipykernel)",
   "language": "python",
   "name": "python3"
  },
  "language_info": {
   "codemirror_mode": {
    "name": "ipython",
    "version": 3
   },
   "file_extension": ".py",
   "mimetype": "text/x-python",
   "name": "python",
   "nbconvert_exporter": "python",
   "pygments_lexer": "ipython3",
   "version": "3.10.15"
  }
 },
 "nbformat": 4,
 "nbformat_minor": 5
}
